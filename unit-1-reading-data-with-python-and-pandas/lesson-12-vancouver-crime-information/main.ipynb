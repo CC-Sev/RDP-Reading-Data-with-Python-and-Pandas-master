{
 "cells": [
  {
   "cell_type": "code",
   "execution_count": 6,
   "metadata": {},
   "outputs": [
    {
     "data": {
      "text/plain": [
       "<sqlite3.Cursor at 0x11cbbf6c0>"
      ]
     },
     "execution_count": 6,
     "metadata": {},
     "output_type": "execute_result"
    }
   ],
   "source": [
    "import numpy as np\n",
    "import pandas as pd\n",
    "import sqlite3\n",
    "\n",
    "# create a new connection to a db in memory\n",
    "conn = sqlite3.connect(':memory:')\n",
    "\n",
    "# create a cursor\n",
    "c = conn.cursor()\n",
    "\n",
    "# restore the given van_crime_2003.sql dump\n",
    "c.executescript(open('files/van_crime_2003.sql', 'r').read())\n",
    "\n",
    "# your code goes here\n"
   ]
  },
  {
   "cell_type": "code",
   "execution_count": 9,
   "metadata": {},
   "outputs": [
    {
     "data": {
      "text/html": [
       "<div>\n",
       "<style scoped>\n",
       "    .dataframe tbody tr th:only-of-type {\n",
       "        vertical-align: middle;\n",
       "    }\n",
       "\n",
       "    .dataframe tbody tr th {\n",
       "        vertical-align: top;\n",
       "    }\n",
       "\n",
       "    .dataframe thead th {\n",
       "        text-align: right;\n",
       "    }\n",
       "</style>\n",
       "<table border=\"1\" class=\"dataframe\">\n",
       "  <thead>\n",
       "    <tr style=\"text-align: right;\">\n",
       "      <th></th>\n",
       "      <th>TYPE</th>\n",
       "      <th>YEAR</th>\n",
       "      <th>MONTH</th>\n",
       "      <th>DAY</th>\n",
       "      <th>HOUR</th>\n",
       "      <th>MINUTE</th>\n",
       "      <th>HUNDRED_BLOCK</th>\n",
       "      <th>NEIGHBOURHOOD</th>\n",
       "      <th>X</th>\n",
       "      <th>Y</th>\n",
       "    </tr>\n",
       "  </thead>\n",
       "  <tbody>\n",
       "    <tr>\n",
       "      <th>0</th>\n",
       "      <td>Theft from Vehicle</td>\n",
       "      <td>2003</td>\n",
       "      <td>6</td>\n",
       "      <td>28.0</td>\n",
       "      <td>13.0</td>\n",
       "      <td>30.0</td>\n",
       "      <td>8XX EXPO BLVD</td>\n",
       "      <td>Central Business District</td>\n",
       "      <td>491771.63</td>\n",
       "      <td>5458295.01</td>\n",
       "    </tr>\n",
       "    <tr>\n",
       "      <th>1</th>\n",
       "      <td>Theft from Vehicle</td>\n",
       "      <td>2003</td>\n",
       "      <td>11</td>\n",
       "      <td>17.0</td>\n",
       "      <td>16.0</td>\n",
       "      <td>0.0</td>\n",
       "      <td>56XX OAK ST</td>\n",
       "      <td>South Cambie</td>\n",
       "      <td>490682.32</td>\n",
       "      <td>5453536.96</td>\n",
       "    </tr>\n",
       "    <tr>\n",
       "      <th>2</th>\n",
       "      <td>Theft from Vehicle</td>\n",
       "      <td>2003</td>\n",
       "      <td>12</td>\n",
       "      <td>30.0</td>\n",
       "      <td>14.0</td>\n",
       "      <td>0.0</td>\n",
       "      <td>85XX STANLEY PARK DR</td>\n",
       "      <td>Stanley Park</td>\n",
       "      <td>489104.19</td>\n",
       "      <td>5460347.36</td>\n",
       "    </tr>\n",
       "    <tr>\n",
       "      <th>3</th>\n",
       "      <td>Theft of Vehicle</td>\n",
       "      <td>2003</td>\n",
       "      <td>1</td>\n",
       "      <td>15.0</td>\n",
       "      <td>14.0</td>\n",
       "      <td>45.0</td>\n",
       "      <td>6XX W 41ST AVE</td>\n",
       "      <td>Oakridge</td>\n",
       "      <td>491372.94</td>\n",
       "      <td>5453422.83</td>\n",
       "    </tr>\n",
       "    <tr>\n",
       "      <th>4</th>\n",
       "      <td>Theft from Vehicle</td>\n",
       "      <td>2003</td>\n",
       "      <td>12</td>\n",
       "      <td>28.0</td>\n",
       "      <td>16.0</td>\n",
       "      <td>45.0</td>\n",
       "      <td>85XX STANLEY PARK DR</td>\n",
       "      <td>Stanley Park</td>\n",
       "      <td>489104.19</td>\n",
       "      <td>5460347.36</td>\n",
       "    </tr>\n",
       "  </tbody>\n",
       "</table>\n",
       "</div>"
      ],
      "text/plain": [
       "                 TYPE  YEAR  MONTH   DAY  HOUR  MINUTE         HUNDRED_BLOCK  \\\n",
       "0  Theft from Vehicle  2003      6  28.0  13.0    30.0         8XX EXPO BLVD   \n",
       "1  Theft from Vehicle  2003     11  17.0  16.0     0.0           56XX OAK ST   \n",
       "2  Theft from Vehicle  2003     12  30.0  14.0     0.0  85XX STANLEY PARK DR   \n",
       "3    Theft of Vehicle  2003      1  15.0  14.0    45.0        6XX W 41ST AVE   \n",
       "4  Theft from Vehicle  2003     12  28.0  16.0    45.0  85XX STANLEY PARK DR   \n",
       "\n",
       "               NEIGHBOURHOOD          X           Y  \n",
       "0  Central Business District  491771.63  5458295.01  \n",
       "1               South Cambie  490682.32  5453536.96  \n",
       "2               Stanley Park  489104.19  5460347.36  \n",
       "3                   Oakridge  491372.94  5453422.83  \n",
       "4               Stanley Park  489104.19  5460347.36  "
      ]
     },
     "execution_count": 9,
     "metadata": {},
     "output_type": "execute_result"
    }
   ],
   "source": [
    "df = pd.read_sql('SELECT * FROM van_crimes', conn)\n",
    "df.head()"
   ]
  },
  {
   "cell_type": "code",
   "execution_count": 10,
   "metadata": {},
   "outputs": [],
   "source": [
    "def test_crimes_1():\n",
    "    assert van_crimes_df.shape == (126, 10)\n"
   ]
  },
  {
   "cell_type": "code",
   "execution_count": 13,
   "metadata": {},
   "outputs": [
    {
     "data": {
      "text/plain": [
       "False"
      ]
     },
     "execution_count": 13,
     "metadata": {},
     "output_type": "execute_result"
    }
   ],
   "source": [
    "df.shape ==(126, 10)"
   ]
  },
  {
   "cell_type": "code",
   "execution_count": 14,
   "metadata": {},
   "outputs": [
    {
     "data": {
      "text/plain": [
       "TYPE             Vehicle Collision or Pedestrian Struck (with I...\n",
       "YEAR                                                          2003\n",
       "MONTH                                                            1\n",
       "DAY                                                           12.0\n",
       "HOUR                                                          23.0\n",
       "MINUTE                                                        45.0\n",
       "HUNDRED_BLOCK                        E 12TH AVE / ST CATHERINES ST\n",
       "NEIGHBOURHOOD                                       Mount Pleasant\n",
       "X                                                         493791.0\n",
       "Y                                                        5456330.0\n",
       "Name: 126, dtype: object"
      ]
     },
     "execution_count": 14,
     "metadata": {},
     "output_type": "execute_result"
    }
   ],
   "source": [
    "df.iloc[126]"
   ]
  },
  {
   "cell_type": "code",
   "execution_count": 11,
   "metadata": {},
   "outputs": [],
   "source": [
    "def test_crimes_2():\n",
    "    assert van_crimes_df.loc[14, 'HOUR'] == 23\n"
   ]
  },
  {
   "cell_type": "code",
   "execution_count": 16,
   "metadata": {},
   "outputs": [
    {
     "data": {
      "text/plain": [
       "False"
      ]
     },
     "execution_count": 16,
     "metadata": {},
     "output_type": "execute_result"
    }
   ],
   "source": [
    "df.loc[14,'HOUR'] == 23"
   ]
  },
  {
   "cell_type": "code",
   "execution_count": 17,
   "metadata": {},
   "outputs": [
    {
     "data": {
      "text/plain": [
       "21.0"
      ]
     },
     "execution_count": 17,
     "metadata": {},
     "output_type": "execute_result"
    }
   ],
   "source": [
    "df.loc[14,'HOUR']"
   ]
  },
  {
   "cell_type": "code",
   "execution_count": null,
   "metadata": {},
   "outputs": [],
   "source": [
    "def test_dangerous_month_1():\n",
    "    assert dangerous_month_crimes.values[0] == 17\n"
   ]
  },
  {
   "cell_type": "code",
   "execution_count": 18,
   "metadata": {},
   "outputs": [
    {
     "data": {
      "text/plain": [
       "array([False, False, False, False, False, False, False, False, False,\n",
       "       False])"
      ]
     },
     "execution_count": 18,
     "metadata": {},
     "output_type": "execute_result"
    }
   ],
   "source": [
    "df.values[0] == 17"
   ]
  },
  {
   "cell_type": "code",
   "execution_count": 23,
   "metadata": {},
   "outputs": [
    {
     "data": {
      "text/plain": [
       "False"
      ]
     },
     "execution_count": 23,
     "metadata": {},
     "output_type": "execute_result"
    }
   ],
   "source": [
    "df.loc[0, 'MONTH'] == 17"
   ]
  },
  {
   "cell_type": "code",
   "execution_count": null,
   "metadata": {},
   "outputs": [],
   "source": [
    "def test_dangerous_month_2():\n",
    "    assert dangerous_month_crimes.index[0] == 6\n"
   ]
  },
  {
   "cell_type": "code",
   "execution_count": 68,
   "metadata": {},
   "outputs": [
    {
     "data": {
      "text/plain": [
       "True"
      ]
     },
     "execution_count": 68,
     "metadata": {},
     "output_type": "execute_result"
    }
   ],
   "source": [
    "df.loc[0,'MONTH'] == 6"
   ]
  },
  {
   "cell_type": "code",
   "execution_count": 67,
   "metadata": {},
   "outputs": [
    {
     "data": {
      "text/plain": [
       "MONTH\n",
       "5    31\n",
       "Name: count, dtype: int64"
      ]
     },
     "execution_count": 67,
     "metadata": {},
     "output_type": "execute_result"
    }
   ],
   "source": [
    "dangerous_month_crimes = df.loc[:, 'MONTH'].value_counts().head(1)\n",
    "dangerous_month_crimes"
   ]
  },
  {
   "cell_type": "code",
   "execution_count": 72,
   "metadata": {},
   "outputs": [
    {
     "data": {
      "text/plain": [
       "MONTH\n",
       "5    31\n",
       "Name: count, dtype: int64"
      ]
     },
     "execution_count": 72,
     "metadata": {},
     "output_type": "execute_result"
    }
   ],
   "source": [
    "df['MONTH'].value_counts().head(1)"
   ]
  },
  {
   "cell_type": "code",
   "execution_count": 31,
   "metadata": {},
   "outputs": [],
   "source": [
    "def test_late_crimes_1():\n",
    "    assert late_crimes.shape == (57, 10)"
   ]
  },
  {
   "cell_type": "code",
   "execution_count": 32,
   "metadata": {},
   "outputs": [],
   "source": [
    "late_crimes = df.copy()"
   ]
  },
  {
   "cell_type": "code",
   "execution_count": 40,
   "metadata": {},
   "outputs": [],
   "source": [
    "late_crimes = df.loc[df['HOUR'] > 18]"
   ]
  },
  {
   "cell_type": "code",
   "execution_count": 41,
   "metadata": {},
   "outputs": [
    {
     "data": {
      "text/plain": [
       "(57, 10)"
      ]
     },
     "execution_count": 41,
     "metadata": {},
     "output_type": "execute_result"
    }
   ],
   "source": [
    "late_crimes.shape"
   ]
  },
  {
   "cell_type": "code",
   "execution_count": 42,
   "metadata": {},
   "outputs": [],
   "source": [
    "def test_late_crimes_2():\n",
    "    assert late_crimes.loc[7, 'HOUR'] == 20"
   ]
  },
  {
   "cell_type": "code",
   "execution_count": 64,
   "metadata": {},
   "outputs": [],
   "source": [
    "later_crimes = df.loc[df['HOUR'] == 20]"
   ]
  },
  {
   "cell_type": "code",
   "execution_count": 65,
   "metadata": {},
   "outputs": [
    {
     "data": {
      "text/html": [
       "<div>\n",
       "<style scoped>\n",
       "    .dataframe tbody tr th:only-of-type {\n",
       "        vertical-align: middle;\n",
       "    }\n",
       "\n",
       "    .dataframe tbody tr th {\n",
       "        vertical-align: top;\n",
       "    }\n",
       "\n",
       "    .dataframe thead th {\n",
       "        text-align: right;\n",
       "    }\n",
       "</style>\n",
       "<table border=\"1\" class=\"dataframe\">\n",
       "  <thead>\n",
       "    <tr style=\"text-align: right;\">\n",
       "      <th></th>\n",
       "      <th>TYPE</th>\n",
       "      <th>YEAR</th>\n",
       "      <th>MONTH</th>\n",
       "      <th>DAY</th>\n",
       "      <th>HOUR</th>\n",
       "      <th>MINUTE</th>\n",
       "      <th>HUNDRED_BLOCK</th>\n",
       "      <th>NEIGHBOURHOOD</th>\n",
       "      <th>X</th>\n",
       "      <th>Y</th>\n",
       "    </tr>\n",
       "  </thead>\n",
       "  <tbody>\n",
       "    <tr>\n",
       "      <th>18</th>\n",
       "      <td>Theft from Vehicle</td>\n",
       "      <td>2003</td>\n",
       "      <td>9</td>\n",
       "      <td>1.0</td>\n",
       "      <td>20.0</td>\n",
       "      <td>10.0</td>\n",
       "      <td>85XX STANLEY PARK DR</td>\n",
       "      <td>Stanley Park</td>\n",
       "      <td>489104.19</td>\n",
       "      <td>5460347.36</td>\n",
       "    </tr>\n",
       "    <tr>\n",
       "      <th>76</th>\n",
       "      <td>Theft of Vehicle</td>\n",
       "      <td>2003</td>\n",
       "      <td>3</td>\n",
       "      <td>12.0</td>\n",
       "      <td>20.0</td>\n",
       "      <td>0.0</td>\n",
       "      <td>20XX COMOX ST</td>\n",
       "      <td>West End</td>\n",
       "      <td>489602.49</td>\n",
       "      <td>5459800.00</td>\n",
       "    </tr>\n",
       "    <tr>\n",
       "      <th>92</th>\n",
       "      <td>Theft from Vehicle</td>\n",
       "      <td>2003</td>\n",
       "      <td>10</td>\n",
       "      <td>27.0</td>\n",
       "      <td>20.0</td>\n",
       "      <td>0.0</td>\n",
       "      <td>11XX BARCLAY ST</td>\n",
       "      <td>West End</td>\n",
       "      <td>490719.76</td>\n",
       "      <td>5458990.73</td>\n",
       "    </tr>\n",
       "    <tr>\n",
       "      <th>109</th>\n",
       "      <td>Theft from Vehicle</td>\n",
       "      <td>2003</td>\n",
       "      <td>6</td>\n",
       "      <td>20.0</td>\n",
       "      <td>20.0</td>\n",
       "      <td>30.0</td>\n",
       "      <td>85XX LIGHTHOUSE WAY</td>\n",
       "      <td>Killarney</td>\n",
       "      <td>496436.44</td>\n",
       "      <td>5450343.65</td>\n",
       "    </tr>\n",
       "    <tr>\n",
       "      <th>111</th>\n",
       "      <td>Theft from Vehicle</td>\n",
       "      <td>2003</td>\n",
       "      <td>6</td>\n",
       "      <td>19.0</td>\n",
       "      <td>20.0</td>\n",
       "      <td>0.0</td>\n",
       "      <td>85XX LIGHTHOUSE WAY</td>\n",
       "      <td>Killarney</td>\n",
       "      <td>496436.21</td>\n",
       "      <td>5450361.00</td>\n",
       "    </tr>\n",
       "    <tr>\n",
       "      <th>125</th>\n",
       "      <td>Mischief</td>\n",
       "      <td>2003</td>\n",
       "      <td>4</td>\n",
       "      <td>29.0</td>\n",
       "      <td>20.0</td>\n",
       "      <td>30.0</td>\n",
       "      <td>10XX COTTON DR</td>\n",
       "      <td>Grandview-Woodland</td>\n",
       "      <td>494798.57</td>\n",
       "      <td>5458176.91</td>\n",
       "    </tr>\n",
       "    <tr>\n",
       "      <th>129</th>\n",
       "      <td>Break and Enter Residential/Other</td>\n",
       "      <td>2003</td>\n",
       "      <td>6</td>\n",
       "      <td>4.0</td>\n",
       "      <td>20.0</td>\n",
       "      <td>10.0</td>\n",
       "      <td>30XX KINGSWAY AVE</td>\n",
       "      <td>Renfrew-Collingwood</td>\n",
       "      <td>496941.90</td>\n",
       "      <td>5453677.36</td>\n",
       "    </tr>\n",
       "    <tr>\n",
       "      <th>136</th>\n",
       "      <td>Theft from Vehicle</td>\n",
       "      <td>2003</td>\n",
       "      <td>9</td>\n",
       "      <td>8.0</td>\n",
       "      <td>20.0</td>\n",
       "      <td>30.0</td>\n",
       "      <td>5X W 11TH AVE</td>\n",
       "      <td>Mount Pleasant</td>\n",
       "      <td>492289.50</td>\n",
       "      <td>5456500.47</td>\n",
       "    </tr>\n",
       "    <tr>\n",
       "      <th>157</th>\n",
       "      <td>Theft from Vehicle</td>\n",
       "      <td>2003</td>\n",
       "      <td>10</td>\n",
       "      <td>24.0</td>\n",
       "      <td>20.0</td>\n",
       "      <td>0.0</td>\n",
       "      <td>5X W 13TH AVE</td>\n",
       "      <td>Mount Pleasant</td>\n",
       "      <td>492281.78</td>\n",
       "      <td>5456290.21</td>\n",
       "    </tr>\n",
       "    <tr>\n",
       "      <th>211</th>\n",
       "      <td>Mischief</td>\n",
       "      <td>2003</td>\n",
       "      <td>1</td>\n",
       "      <td>23.0</td>\n",
       "      <td>20.0</td>\n",
       "      <td>0.0</td>\n",
       "      <td>9XX BUTE ST</td>\n",
       "      <td>West End</td>\n",
       "      <td>490544.46</td>\n",
       "      <td>5459030.37</td>\n",
       "    </tr>\n",
       "    <tr>\n",
       "      <th>223</th>\n",
       "      <td>Break and Enter Residential/Other</td>\n",
       "      <td>2003</td>\n",
       "      <td>12</td>\n",
       "      <td>3.0</td>\n",
       "      <td>20.0</td>\n",
       "      <td>42.0</td>\n",
       "      <td>30XX KNIGHT ST</td>\n",
       "      <td>Mount Pleasant</td>\n",
       "      <td>494440.98</td>\n",
       "      <td>5456067.19</td>\n",
       "    </tr>\n",
       "  </tbody>\n",
       "</table>\n",
       "</div>"
      ],
      "text/plain": [
       "                                  TYPE  YEAR  MONTH   DAY  HOUR  MINUTE  \\\n",
       "18                  Theft from Vehicle  2003      9   1.0  20.0    10.0   \n",
       "76                    Theft of Vehicle  2003      3  12.0  20.0     0.0   \n",
       "92                  Theft from Vehicle  2003     10  27.0  20.0     0.0   \n",
       "109                 Theft from Vehicle  2003      6  20.0  20.0    30.0   \n",
       "111                 Theft from Vehicle  2003      6  19.0  20.0     0.0   \n",
       "125                           Mischief  2003      4  29.0  20.0    30.0   \n",
       "129  Break and Enter Residential/Other  2003      6   4.0  20.0    10.0   \n",
       "136                 Theft from Vehicle  2003      9   8.0  20.0    30.0   \n",
       "157                 Theft from Vehicle  2003     10  24.0  20.0     0.0   \n",
       "211                           Mischief  2003      1  23.0  20.0     0.0   \n",
       "223  Break and Enter Residential/Other  2003     12   3.0  20.0    42.0   \n",
       "\n",
       "            HUNDRED_BLOCK        NEIGHBOURHOOD          X           Y  \n",
       "18   85XX STANLEY PARK DR         Stanley Park  489104.19  5460347.36  \n",
       "76          20XX COMOX ST             West End  489602.49  5459800.00  \n",
       "92        11XX BARCLAY ST             West End  490719.76  5458990.73  \n",
       "109   85XX LIGHTHOUSE WAY            Killarney  496436.44  5450343.65  \n",
       "111   85XX LIGHTHOUSE WAY            Killarney  496436.21  5450361.00  \n",
       "125        10XX COTTON DR   Grandview-Woodland  494798.57  5458176.91  \n",
       "129     30XX KINGSWAY AVE  Renfrew-Collingwood  496941.90  5453677.36  \n",
       "136         5X W 11TH AVE       Mount Pleasant  492289.50  5456500.47  \n",
       "157         5X W 13TH AVE       Mount Pleasant  492281.78  5456290.21  \n",
       "211           9XX BUTE ST             West End  490544.46  5459030.37  \n",
       "223        30XX KNIGHT ST       Mount Pleasant  494440.98  5456067.19  "
      ]
     },
     "execution_count": 65,
     "metadata": {},
     "output_type": "execute_result"
    }
   ],
   "source": [
    "later_crimes"
   ]
  },
  {
   "cell_type": "code",
   "execution_count": 66,
   "metadata": {},
   "outputs": [
    {
     "data": {
      "text/plain": [
       "TYPE             Theft from Vehicle\n",
       "YEAR                           2003\n",
       "MONTH                             9\n",
       "DAY                             8.0\n",
       "HOUR                           20.0\n",
       "MINUTE                         30.0\n",
       "HUNDRED_BLOCK         5X W 11TH AVE\n",
       "NEIGHBOURHOOD        Mount Pleasant\n",
       "X                          492289.5\n",
       "Y                        5456500.47\n",
       "Name: 136, dtype: object"
      ]
     },
     "execution_count": 66,
     "metadata": {},
     "output_type": "execute_result"
    }
   ],
   "source": [
    "later_crimes.iloc[7]"
   ]
  }
 ],
 "metadata": {
  "kernelspec": {
   "display_name": "Python 3",
   "language": "python",
   "name": "python3"
  },
  "language_info": {
   "codemirror_mode": {
    "name": "ipython",
    "version": 3
   },
   "file_extension": ".py",
   "mimetype": "text/x-python",
   "name": "python",
   "nbconvert_exporter": "python",
   "pygments_lexer": "ipython3",
   "version": "3.11.3"
  }
 },
 "nbformat": 4,
 "nbformat_minor": 2
}
