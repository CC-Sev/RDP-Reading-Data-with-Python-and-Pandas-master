{
 "cells": [
  {
   "cell_type": "code",
   "execution_count": 8,
   "metadata": {},
   "outputs": [],
   "source": [
    "import pandas as pd\n",
    "import numpy as np\n",
    "import sqlite3 as sqlite3"
   ]
  },
  {
   "cell_type": "code",
   "execution_count": 9,
   "metadata": {},
   "outputs": [
    {
     "data": {
      "text/plain": [
       "<sqlite3.Cursor at 0x11ac116c0>"
      ]
     },
     "execution_count": 9,
     "metadata": {},
     "output_type": "execute_result"
    }
   ],
   "source": [
    "conn = sqlite3.connect(':memory:')\n",
    "c = conn.cursor()\n",
    "c.executescript(open('files/cryptos.sql', 'r').read())"
   ]
  },
  {
   "cell_type": "code",
   "execution_count": 18,
   "metadata": {},
   "outputs": [
    {
     "data": {
      "text/html": [
       "<div>\n",
       "<style scoped>\n",
       "    .dataframe tbody tr th:only-of-type {\n",
       "        vertical-align: middle;\n",
       "    }\n",
       "\n",
       "    .dataframe tbody tr th {\n",
       "        vertical-align: top;\n",
       "    }\n",
       "\n",
       "    .dataframe thead th {\n",
       "        text-align: right;\n",
       "    }\n",
       "</style>\n",
       "<table border=\"1\" class=\"dataframe\">\n",
       "  <thead>\n",
       "    <tr style=\"text-align: right;\">\n",
       "      <th></th>\n",
       "      <th>coin_name</th>\n",
       "      <th>exchange</th>\n",
       "      <th>symbol</th>\n",
       "      <th>price_usd</th>\n",
       "      <th>percent_change_7d</th>\n",
       "    </tr>\n",
       "  </thead>\n",
       "  <tbody>\n",
       "    <tr>\n",
       "      <th>0</th>\n",
       "      <td>Bitcoin</td>\n",
       "      <td>Bitstamp</td>\n",
       "      <td>BTC</td>\n",
       "      <td>8707.37</td>\n",
       "      <td>-5.91</td>\n",
       "    </tr>\n",
       "    <tr>\n",
       "      <th>1</th>\n",
       "      <td>Ethereum</td>\n",
       "      <td>Bitstamp</td>\n",
       "      <td>ETH</td>\n",
       "      <td>186.50</td>\n",
       "      <td>-0.66</td>\n",
       "    </tr>\n",
       "    <tr>\n",
       "      <th>2</th>\n",
       "      <td>XRP</td>\n",
       "      <td>Bitstamp</td>\n",
       "      <td>XRP</td>\n",
       "      <td>0.27</td>\n",
       "      <td>-8.22</td>\n",
       "    </tr>\n",
       "    <tr>\n",
       "      <th>3</th>\n",
       "      <td>Bitcoin Cash</td>\n",
       "      <td>Binance</td>\n",
       "      <td>BCH</td>\n",
       "      <td>278.92</td>\n",
       "      <td>-4.76</td>\n",
       "    </tr>\n",
       "    <tr>\n",
       "      <th>4</th>\n",
       "      <td>Tether</td>\n",
       "      <td>Bitstamp</td>\n",
       "      <td>USDT</td>\n",
       "      <td>1.01</td>\n",
       "      <td>0.45</td>\n",
       "    </tr>\n",
       "    <tr>\n",
       "      <th>...</th>\n",
       "      <td>...</td>\n",
       "      <td>...</td>\n",
       "      <td>...</td>\n",
       "      <td>...</td>\n",
       "      <td>...</td>\n",
       "    </tr>\n",
       "    <tr>\n",
       "      <th>95</th>\n",
       "      <td>iExec RLC</td>\n",
       "      <td>Bitstamp</td>\n",
       "      <td>RLC</td>\n",
       "      <td>0.73</td>\n",
       "      <td>10.64</td>\n",
       "    </tr>\n",
       "    <tr>\n",
       "      <th>96</th>\n",
       "      <td>BitMax Token</td>\n",
       "      <td>OKEx</td>\n",
       "      <td>BTMX</td>\n",
       "      <td>0.07</td>\n",
       "      <td>1.18</td>\n",
       "    </tr>\n",
       "    <tr>\n",
       "      <th>97</th>\n",
       "      <td>Flexacoin</td>\n",
       "      <td>Bitstamp</td>\n",
       "      <td>FXC</td>\n",
       "      <td>0.00</td>\n",
       "      <td>-0.39</td>\n",
       "    </tr>\n",
       "    <tr>\n",
       "      <th>98</th>\n",
       "      <td>Chiliz</td>\n",
       "      <td>Poloniex</td>\n",
       "      <td>CHZ</td>\n",
       "      <td>0.01</td>\n",
       "      <td>5.44</td>\n",
       "    </tr>\n",
       "    <tr>\n",
       "      <th>99</th>\n",
       "      <td>Ardor</td>\n",
       "      <td>Bitstamp</td>\n",
       "      <td>ARDR</td>\n",
       "      <td>0.05</td>\n",
       "      <td>-3.56</td>\n",
       "    </tr>\n",
       "  </tbody>\n",
       "</table>\n",
       "<p>100 rows × 5 columns</p>\n",
       "</div>"
      ],
      "text/plain": [
       "       coin_name  exchange symbol  price_usd  percent_change_7d\n",
       "0        Bitcoin  Bitstamp    BTC    8707.37              -5.91\n",
       "1       Ethereum  Bitstamp    ETH     186.50              -0.66\n",
       "2            XRP  Bitstamp    XRP       0.27              -8.22\n",
       "3   Bitcoin Cash   Binance    BCH     278.92              -4.76\n",
       "4         Tether  Bitstamp   USDT       1.01               0.45\n",
       "..           ...       ...    ...        ...                ...\n",
       "95     iExec RLC  Bitstamp    RLC       0.73              10.64\n",
       "96  BitMax Token      OKEx   BTMX       0.07               1.18\n",
       "97     Flexacoin  Bitstamp    FXC       0.00              -0.39\n",
       "98        Chiliz  Poloniex    CHZ       0.01               5.44\n",
       "99         Ardor  Bitstamp   ARDR       0.05              -3.56\n",
       "\n",
       "[100 rows x 5 columns]"
      ]
     },
     "execution_count": 18,
     "metadata": {},
     "output_type": "execute_result"
    }
   ],
   "source": [
    "df = pd.read_sql('''SELECT cryptocoins_cryptocurrency.name AS coin_name,\n",
    "                 cryptocoins_exchange.name AS exchange,\n",
    "                 symbol, price_usd, percent_change_7d\n",
    "                 FROM cryptocoins_cryptocurrency\n",
    "                 JOIN cryptocoins_exchange\n",
    "                 ON cryptocoins_cryptocurrency.exchange_id = cryptocoins_exchange.id''', conn)\n",
    "\n",
    "df"
   ]
  },
  {
   "cell_type": "code",
   "execution_count": 19,
   "metadata": {},
   "outputs": [],
   "source": [
    "def test_cryptos_1():\n",
    "    assert crypto_df.shape == (100, 5)\n"
   ]
  },
  {
   "cell_type": "code",
   "execution_count": 20,
   "metadata": {},
   "outputs": [
    {
     "data": {
      "text/plain": [
       "(100, 5)"
      ]
     },
     "execution_count": 20,
     "metadata": {},
     "output_type": "execute_result"
    }
   ],
   "source": [
    "df.shape"
   ]
  },
  {
   "cell_type": "code",
   "execution_count": 13,
   "metadata": {},
   "outputs": [],
   "source": [
    "def test_cryptos_2():\n",
    "    assert crypto_df.loc[12, 'symbol'] == 'LINK'"
   ]
  },
  {
   "cell_type": "code",
   "execution_count": 21,
   "metadata": {},
   "outputs": [
    {
     "data": {
      "text/plain": [
       "coin_name            Chainlink\n",
       "exchange              Poloniex\n",
       "symbol                    LINK\n",
       "price_usd                 3.15\n",
       "percent_change_7d        16.93\n",
       "Name: 12, dtype: object"
      ]
     },
     "execution_count": 21,
     "metadata": {},
     "output_type": "execute_result"
    }
   ],
   "source": [
    "df.iloc[12]"
   ]
  },
  {
   "cell_type": "code",
   "execution_count": 22,
   "metadata": {},
   "outputs": [
    {
     "data": {
      "text/html": [
       "<div>\n",
       "<style scoped>\n",
       "    .dataframe tbody tr th:only-of-type {\n",
       "        vertical-align: middle;\n",
       "    }\n",
       "\n",
       "    .dataframe tbody tr th {\n",
       "        vertical-align: top;\n",
       "    }\n",
       "\n",
       "    .dataframe thead th {\n",
       "        text-align: right;\n",
       "    }\n",
       "</style>\n",
       "<table border=\"1\" class=\"dataframe\">\n",
       "  <thead>\n",
       "    <tr style=\"text-align: right;\">\n",
       "      <th></th>\n",
       "      <th>coin_name</th>\n",
       "      <th>exchange</th>\n",
       "      <th>symbol</th>\n",
       "      <th>price_usd</th>\n",
       "      <th>percent_change_7d</th>\n",
       "    </tr>\n",
       "  </thead>\n",
       "  <tbody>\n",
       "    <tr>\n",
       "      <th>12</th>\n",
       "      <td>Chainlink</td>\n",
       "      <td>Poloniex</td>\n",
       "      <td>LINK</td>\n",
       "      <td>3.15</td>\n",
       "      <td>16.93</td>\n",
       "    </tr>\n",
       "  </tbody>\n",
       "</table>\n",
       "</div>"
      ],
      "text/plain": [
       "    coin_name  exchange symbol  price_usd  percent_change_7d\n",
       "12  Chainlink  Poloniex   LINK       3.15              16.93"
      ]
     },
     "execution_count": 22,
     "metadata": {},
     "output_type": "execute_result"
    }
   ],
   "source": [
    "df.loc[df['symbol'] == 'LINK']"
   ]
  },
  {
   "cell_type": "code",
   "execution_count": 14,
   "metadata": {},
   "outputs": [],
   "source": [
    "def test_weekly_change_1():\n",
    "    assert weekly_change_df.iloc[0]['coin_name'] == 'DxChain Token'\n"
   ]
  },
  {
   "cell_type": "code",
   "execution_count": 27,
   "metadata": {},
   "outputs": [
    {
     "data": {
      "text/html": [
       "<div>\n",
       "<style scoped>\n",
       "    .dataframe tbody tr th:only-of-type {\n",
       "        vertical-align: middle;\n",
       "    }\n",
       "\n",
       "    .dataframe tbody tr th {\n",
       "        vertical-align: top;\n",
       "    }\n",
       "\n",
       "    .dataframe thead th {\n",
       "        text-align: right;\n",
       "    }\n",
       "</style>\n",
       "<table border=\"1\" class=\"dataframe\">\n",
       "  <thead>\n",
       "    <tr style=\"text-align: right;\">\n",
       "      <th></th>\n",
       "      <th>coin_name</th>\n",
       "      <th>exchange</th>\n",
       "      <th>symbol</th>\n",
       "      <th>price_usd</th>\n",
       "      <th>percent_change_7d</th>\n",
       "    </tr>\n",
       "  </thead>\n",
       "  <tbody>\n",
       "    <tr>\n",
       "      <th>65</th>\n",
       "      <td>DxChain Token</td>\n",
       "      <td>OKEx</td>\n",
       "      <td>DX</td>\n",
       "      <td>0.0</td>\n",
       "      <td>89.14</td>\n",
       "    </tr>\n",
       "  </tbody>\n",
       "</table>\n",
       "</div>"
      ],
      "text/plain": [
       "        coin_name exchange symbol  price_usd  percent_change_7d\n",
       "65  DxChain Token     OKEx     DX        0.0              89.14"
      ]
     },
     "execution_count": 27,
     "metadata": {},
     "output_type": "execute_result"
    }
   ],
   "source": [
    "df.loc[df['coin_name'] == 'DxChain Token']"
   ]
  },
  {
   "cell_type": "code",
   "execution_count": 33,
   "metadata": {},
   "outputs": [
    {
     "data": {
      "text/html": [
       "<div>\n",
       "<style scoped>\n",
       "    .dataframe tbody tr th:only-of-type {\n",
       "        vertical-align: middle;\n",
       "    }\n",
       "\n",
       "    .dataframe tbody tr th {\n",
       "        vertical-align: top;\n",
       "    }\n",
       "\n",
       "    .dataframe thead th {\n",
       "        text-align: right;\n",
       "    }\n",
       "</style>\n",
       "<table border=\"1\" class=\"dataframe\">\n",
       "  <thead>\n",
       "    <tr style=\"text-align: right;\">\n",
       "      <th></th>\n",
       "      <th>coin_name</th>\n",
       "      <th>exchange</th>\n",
       "      <th>symbol</th>\n",
       "      <th>price_usd</th>\n",
       "      <th>percent_change_7d</th>\n",
       "    </tr>\n",
       "  </thead>\n",
       "  <tbody>\n",
       "    <tr>\n",
       "      <th>65</th>\n",
       "      <td>DxChain Token</td>\n",
       "      <td>OKEx</td>\n",
       "      <td>DX</td>\n",
       "      <td>0.0</td>\n",
       "      <td>89.14</td>\n",
       "    </tr>\n",
       "  </tbody>\n",
       "</table>\n",
       "</div>"
      ],
      "text/plain": [
       "        coin_name exchange symbol  price_usd  percent_change_7d\n",
       "65  DxChain Token     OKEx     DX        0.0              89.14"
      ]
     },
     "execution_count": 33,
     "metadata": {},
     "output_type": "execute_result"
    }
   ],
   "source": [
    "df[df['coin_name'] == 'DxChain Token']"
   ]
  },
  {
   "cell_type": "code",
   "execution_count": 15,
   "metadata": {},
   "outputs": [],
   "source": [
    "def test_weekly_change_2():\n",
    "    assert weekly_change_df.iloc[4]['price_usd'] == 0.01"
   ]
  },
  {
   "cell_type": "code",
   "execution_count": 34,
   "metadata": {},
   "outputs": [
    {
     "data": {
      "text/html": [
       "<div>\n",
       "<style scoped>\n",
       "    .dataframe tbody tr th:only-of-type {\n",
       "        vertical-align: middle;\n",
       "    }\n",
       "\n",
       "    .dataframe tbody tr th {\n",
       "        vertical-align: top;\n",
       "    }\n",
       "\n",
       "    .dataframe thead th {\n",
       "        text-align: right;\n",
       "    }\n",
       "</style>\n",
       "<table border=\"1\" class=\"dataframe\">\n",
       "  <thead>\n",
       "    <tr style=\"text-align: right;\">\n",
       "      <th></th>\n",
       "      <th>coin_name</th>\n",
       "      <th>exchange</th>\n",
       "      <th>symbol</th>\n",
       "      <th>price_usd</th>\n",
       "      <th>percent_change_7d</th>\n",
       "    </tr>\n",
       "  </thead>\n",
       "  <tbody>\n",
       "    <tr>\n",
       "      <th>26</th>\n",
       "      <td>VeChain</td>\n",
       "      <td>OKEx</td>\n",
       "      <td>VET</td>\n",
       "      <td>0.01</td>\n",
       "      <td>21.49</td>\n",
       "    </tr>\n",
       "    <tr>\n",
       "      <th>69</th>\n",
       "      <td>DigiByte</td>\n",
       "      <td>Bitstamp</td>\n",
       "      <td>DGB</td>\n",
       "      <td>0.01</td>\n",
       "      <td>1.10</td>\n",
       "    </tr>\n",
       "    <tr>\n",
       "      <th>80</th>\n",
       "      <td>IOST</td>\n",
       "      <td>OKEx</td>\n",
       "      <td>IOST</td>\n",
       "      <td>0.01</td>\n",
       "      <td>-3.36</td>\n",
       "    </tr>\n",
       "    <tr>\n",
       "      <th>94</th>\n",
       "      <td>Aurora</td>\n",
       "      <td>Binance</td>\n",
       "      <td>AOA</td>\n",
       "      <td>0.01</td>\n",
       "      <td>9.49</td>\n",
       "    </tr>\n",
       "    <tr>\n",
       "      <th>98</th>\n",
       "      <td>Chiliz</td>\n",
       "      <td>Poloniex</td>\n",
       "      <td>CHZ</td>\n",
       "      <td>0.01</td>\n",
       "      <td>5.44</td>\n",
       "    </tr>\n",
       "  </tbody>\n",
       "</table>\n",
       "</div>"
      ],
      "text/plain": [
       "   coin_name  exchange symbol  price_usd  percent_change_7d\n",
       "26   VeChain      OKEx    VET       0.01              21.49\n",
       "69  DigiByte  Bitstamp    DGB       0.01               1.10\n",
       "80      IOST      OKEx   IOST       0.01              -3.36\n",
       "94    Aurora   Binance    AOA       0.01               9.49\n",
       "98    Chiliz  Poloniex    CHZ       0.01               5.44"
      ]
     },
     "execution_count": 34,
     "metadata": {},
     "output_type": "execute_result"
    }
   ],
   "source": [
    "df.loc[df['price_usd'] == 0.01]"
   ]
  },
  {
   "cell_type": "code",
   "execution_count": 36,
   "metadata": {},
   "outputs": [
    {
     "data": {
      "text/plain": [
       "coin_name              Chiliz\n",
       "exchange             Poloniex\n",
       "symbol                    CHZ\n",
       "price_usd                0.01\n",
       "percent_change_7d        5.44\n",
       "Name: 98, dtype: object"
      ]
     },
     "execution_count": 36,
     "metadata": {},
     "output_type": "execute_result"
    }
   ],
   "source": [
    "df.loc[df['price_usd'] == 0.01].iloc[4]"
   ]
  },
  {
   "cell_type": "code",
   "execution_count": 40,
   "metadata": {},
   "outputs": [
    {
     "data": {
      "text/html": [
       "<div>\n",
       "<style scoped>\n",
       "    .dataframe tbody tr th:only-of-type {\n",
       "        vertical-align: middle;\n",
       "    }\n",
       "\n",
       "    .dataframe tbody tr th {\n",
       "        vertical-align: top;\n",
       "    }\n",
       "\n",
       "    .dataframe thead th {\n",
       "        text-align: right;\n",
       "    }\n",
       "</style>\n",
       "<table border=\"1\" class=\"dataframe\">\n",
       "  <thead>\n",
       "    <tr style=\"text-align: right;\">\n",
       "      <th></th>\n",
       "      <th>coin_name</th>\n",
       "      <th>exchange</th>\n",
       "      <th>symbol</th>\n",
       "      <th>price_usd</th>\n",
       "      <th>percent_change_7d</th>\n",
       "    </tr>\n",
       "  </thead>\n",
       "  <tbody>\n",
       "    <tr>\n",
       "      <th>65</th>\n",
       "      <td>DxChain Token</td>\n",
       "      <td>OKEx</td>\n",
       "      <td>DX</td>\n",
       "      <td>0.00</td>\n",
       "      <td>89.14</td>\n",
       "    </tr>\n",
       "    <tr>\n",
       "      <th>39</th>\n",
       "      <td>MINDOL</td>\n",
       "      <td>Bitstamp</td>\n",
       "      <td>MIN</td>\n",
       "      <td>1.36</td>\n",
       "      <td>72.90</td>\n",
       "    </tr>\n",
       "    <tr>\n",
       "      <th>74</th>\n",
       "      <td>Seele</td>\n",
       "      <td>Bitstamp</td>\n",
       "      <td>SEELE</td>\n",
       "      <td>0.11</td>\n",
       "      <td>39.59</td>\n",
       "    </tr>\n",
       "    <tr>\n",
       "      <th>61</th>\n",
       "      <td>Komodo</td>\n",
       "      <td>Poloniex</td>\n",
       "      <td>KMD</td>\n",
       "      <td>0.86</td>\n",
       "      <td>22.75</td>\n",
       "    </tr>\n",
       "    <tr>\n",
       "      <th>26</th>\n",
       "      <td>VeChain</td>\n",
       "      <td>OKEx</td>\n",
       "      <td>VET</td>\n",
       "      <td>0.01</td>\n",
       "      <td>21.49</td>\n",
       "    </tr>\n",
       "    <tr>\n",
       "      <th>...</th>\n",
       "      <td>...</td>\n",
       "      <td>...</td>\n",
       "      <td>...</td>\n",
       "      <td>...</td>\n",
       "      <td>...</td>\n",
       "    </tr>\n",
       "    <tr>\n",
       "      <th>35</th>\n",
       "      <td>Insight Chain</td>\n",
       "      <td>Bitstamp</td>\n",
       "      <td>INB</td>\n",
       "      <td>0.64</td>\n",
       "      <td>-13.37</td>\n",
       "    </tr>\n",
       "    <tr>\n",
       "      <th>57</th>\n",
       "      <td>Bytom</td>\n",
       "      <td>OKEx</td>\n",
       "      <td>BTM</td>\n",
       "      <td>0.11</td>\n",
       "      <td>-13.42</td>\n",
       "    </tr>\n",
       "    <tr>\n",
       "      <th>64</th>\n",
       "      <td>Silverway</td>\n",
       "      <td>Poloniex</td>\n",
       "      <td>SLV</td>\n",
       "      <td>0.95</td>\n",
       "      <td>-13.84</td>\n",
       "    </tr>\n",
       "    <tr>\n",
       "      <th>63</th>\n",
       "      <td>EDUCare</td>\n",
       "      <td>OKEx</td>\n",
       "      <td>EKT</td>\n",
       "      <td>0.10</td>\n",
       "      <td>-14.31</td>\n",
       "    </tr>\n",
       "    <tr>\n",
       "      <th>59</th>\n",
       "      <td>LUNA</td>\n",
       "      <td>Poloniex</td>\n",
       "      <td>LUNA</td>\n",
       "      <td>0.37</td>\n",
       "      <td>-17.84</td>\n",
       "    </tr>\n",
       "  </tbody>\n",
       "</table>\n",
       "<p>100 rows × 5 columns</p>\n",
       "</div>"
      ],
      "text/plain": [
       "        coin_name  exchange symbol  price_usd  percent_change_7d\n",
       "65  DxChain Token      OKEx     DX       0.00              89.14\n",
       "39         MINDOL  Bitstamp    MIN       1.36              72.90\n",
       "74          Seele  Bitstamp  SEELE       0.11              39.59\n",
       "61         Komodo  Poloniex    KMD       0.86              22.75\n",
       "26        VeChain      OKEx    VET       0.01              21.49\n",
       "..            ...       ...    ...        ...                ...\n",
       "35  Insight Chain  Bitstamp    INB       0.64             -13.37\n",
       "57          Bytom      OKEx    BTM       0.11             -13.42\n",
       "64      Silverway  Poloniex    SLV       0.95             -13.84\n",
       "63        EDUCare      OKEx    EKT       0.10             -14.31\n",
       "59           LUNA  Poloniex   LUNA       0.37             -17.84\n",
       "\n",
       "[100 rows x 5 columns]"
      ]
     },
     "execution_count": 40,
     "metadata": {},
     "output_type": "execute_result"
    }
   ],
   "source": [
    "df.sort_values('percent_change_7d', ascending=False)"
   ]
  },
  {
   "cell_type": "code",
   "execution_count": null,
   "metadata": {},
   "outputs": [],
   "source": []
  }
 ],
 "metadata": {
  "kernelspec": {
   "display_name": "Python 3",
   "language": "python",
   "name": "python3"
  },
  "language_info": {
   "codemirror_mode": {
    "name": "ipython",
    "version": 3
   },
   "file_extension": ".py",
   "mimetype": "text/x-python",
   "name": "python",
   "nbconvert_exporter": "python",
   "pygments_lexer": "ipython3",
   "version": "3.11.3"
  }
 },
 "nbformat": 4,
 "nbformat_minor": 2
}
